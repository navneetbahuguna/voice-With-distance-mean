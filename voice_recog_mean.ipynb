{
 "cells": [
  {
   "cell_type": "code",
   "execution_count": 1,
   "metadata": {},
   "outputs": [],
   "source": [
    "from python_speech_features import mfcc\n",
    "from python_speech_features import logfbank\n",
    "import scipy.io.wavfile as wav\n",
    "import speech_recognition as sr\n",
    "import pyaudio\n",
    "import pandas as pd\n",
    "\n",
    "\n"
   ]
  },
  {
   "cell_type": "markdown",
   "metadata": {},
   "source": [
    "### Train Data"
   ]
  },
  {
   "cell_type": "code",
   "execution_count": 528,
   "metadata": {},
   "outputs": [
    {
     "name": "stdout",
     "output_type": "stream",
     "text": [
      "read audio and find rate and signals\n"
     ]
    },
    {
     "name": "stderr",
     "output_type": "stream",
     "text": [
      "WARNING:root:frame length (1103) is greater than FFT size (512), frame will be truncated. Increase NFFT to avoid.\n"
     ]
    },
    {
     "name": "stdout",
     "output_type": "stream",
     "text": [
      "create the mfcc dataframe\n"
     ]
    }
   ],
   "source": [
    "'''r = sr.Recognizer()\n",
    "\n",
    "with sr.Microphone() as source:\n",
    "    print(\" say\")\n",
    "    audio = r.listen(source)\n",
    "    \n",
    "\n",
    "print(\"save audio in wav format\")\n",
    "with open(\"a.wav\",\"wb\") as f:\n",
    "    f.write(audio.get_wav_data())'''\n",
    "    \n",
    "print(\"read audio and find rate and signals\")\n",
    "rate,sig = wav.read(\"shubham_LL1.wav\")\n",
    "mfcc_data = mfcc(sig,rate,ceplifter=32)\n",
    "    #fbank_feat = logfbank(sig,rate)\n",
    "\n",
    "\n",
    "print(\"create the mfcc dataframe\")\n",
    "dataFrame_mfcc = pd.DataFrame(mfcc_data) \n",
    "mean = dataFrame_mfcc.mean()\n",
    "#print(\"mean is :\",mean)\n",
    "\n"
   ]
  },
  {
   "cell_type": "code",
   "execution_count": 529,
   "metadata": {},
   "outputs": [],
   "source": [
    "train = pd.DataFrame(mean)"
   ]
  },
  {
   "cell_type": "code",
   "execution_count": 530,
   "metadata": {},
   "outputs": [],
   "source": [
    "train = train.T"
   ]
  },
  {
   "cell_type": "markdown",
   "metadata": {},
   "source": [
    "### Test Data"
   ]
  },
  {
   "cell_type": "code",
   "execution_count": 555,
   "metadata": {},
   "outputs": [
    {
     "name": "stderr",
     "output_type": "stream",
     "text": [
      "WARNING:root:frame length (1103) is greater than FFT size (512), frame will be truncated. Increase NFFT to avoid.\n"
     ]
    },
    {
     "name": "stdout",
     "output_type": "stream",
     "text": [
      "create the mfcc dataframe\n"
     ]
    }
   ],
   "source": [
    "rate,sig = wav.read(\"navneet_HH2.wav\")\n",
    "mfcc_data = mfcc(sig,rate,ceplifter=42)\n",
    "    #fbank_feat = logfbank(sig,rate)\n",
    "\n",
    "\n",
    "print(\"create the mfcc dataframe\")\n",
    "dataFrame_mfcc = pd.DataFrame(mfcc_data) \n",
    "mean = dataFrame_mfcc.mean()\n",
    "#print(\"mean is :\",mean)\n",
    "\n",
    "test = pd.DataFrame(mean)\n",
    "#print(test)"
   ]
  },
  {
   "cell_type": "code",
   "execution_count": 556,
   "metadata": {},
   "outputs": [],
   "source": [
    "test = test.T"
   ]
  },
  {
   "cell_type": "code",
   "execution_count": 557,
   "metadata": {},
   "outputs": [
    {
     "data": {
      "text/html": [
       "<div>\n",
       "<style scoped>\n",
       "    .dataframe tbody tr th:only-of-type {\n",
       "        vertical-align: middle;\n",
       "    }\n",
       "\n",
       "    .dataframe tbody tr th {\n",
       "        vertical-align: top;\n",
       "    }\n",
       "\n",
       "    .dataframe thead th {\n",
       "        text-align: right;\n",
       "    }\n",
       "</style>\n",
       "<table border=\"1\" class=\"dataframe\">\n",
       "  <thead>\n",
       "    <tr style=\"text-align: right;\">\n",
       "      <th></th>\n",
       "      <th>0</th>\n",
       "      <th>1</th>\n",
       "      <th>2</th>\n",
       "      <th>3</th>\n",
       "      <th>4</th>\n",
       "      <th>5</th>\n",
       "      <th>6</th>\n",
       "      <th>7</th>\n",
       "      <th>8</th>\n",
       "      <th>9</th>\n",
       "      <th>10</th>\n",
       "      <th>11</th>\n",
       "      <th>12</th>\n",
       "    </tr>\n",
       "  </thead>\n",
       "  <tbody>\n",
       "    <tr>\n",
       "      <th>0</th>\n",
       "      <td>13.33999</td>\n",
       "      <td>0.148053</td>\n",
       "      <td>-9.209032</td>\n",
       "      <td>2.64429</td>\n",
       "      <td>5.140057</td>\n",
       "      <td>0.282452</td>\n",
       "      <td>-15.035553</td>\n",
       "      <td>-11.147631</td>\n",
       "      <td>-7.564116</td>\n",
       "      <td>-9.250828</td>\n",
       "      <td>-9.926796</td>\n",
       "      <td>0.373194</td>\n",
       "      <td>-1.287082</td>\n",
       "    </tr>\n",
       "  </tbody>\n",
       "</table>\n",
       "</div>"
      ],
      "text/plain": [
       "         0         1         2        3         4         5          6   \\\n",
       "0  13.33999  0.148053 -9.209032  2.64429  5.140057  0.282452 -15.035553   \n",
       "\n",
       "          7         8         9         10        11        12  \n",
       "0 -11.147631 -7.564116 -9.250828 -9.926796  0.373194 -1.287082  "
      ]
     },
     "execution_count": 557,
     "metadata": {},
     "output_type": "execute_result"
    }
   ],
   "source": [
    "train"
   ]
  },
  {
   "cell_type": "code",
   "execution_count": 558,
   "metadata": {},
   "outputs": [
    {
     "data": {
      "text/html": [
       "<div>\n",
       "<style scoped>\n",
       "    .dataframe tbody tr th:only-of-type {\n",
       "        vertical-align: middle;\n",
       "    }\n",
       "\n",
       "    .dataframe tbody tr th {\n",
       "        vertical-align: top;\n",
       "    }\n",
       "\n",
       "    .dataframe thead th {\n",
       "        text-align: right;\n",
       "    }\n",
       "</style>\n",
       "<table border=\"1\" class=\"dataframe\">\n",
       "  <thead>\n",
       "    <tr style=\"text-align: right;\">\n",
       "      <th></th>\n",
       "      <th>0</th>\n",
       "      <th>1</th>\n",
       "      <th>2</th>\n",
       "      <th>3</th>\n",
       "      <th>4</th>\n",
       "      <th>5</th>\n",
       "      <th>6</th>\n",
       "      <th>7</th>\n",
       "      <th>8</th>\n",
       "      <th>9</th>\n",
       "      <th>10</th>\n",
       "      <th>11</th>\n",
       "      <th>12</th>\n",
       "    </tr>\n",
       "  </thead>\n",
       "  <tbody>\n",
       "    <tr>\n",
       "      <th>0</th>\n",
       "      <td>13.561052</td>\n",
       "      <td>-0.082514</td>\n",
       "      <td>-12.240911</td>\n",
       "      <td>1.76602</td>\n",
       "      <td>6.611381</td>\n",
       "      <td>6.140756</td>\n",
       "      <td>-7.405864</td>\n",
       "      <td>-2.996645</td>\n",
       "      <td>-1.483605</td>\n",
       "      <td>-2.86212</td>\n",
       "      <td>-5.922711</td>\n",
       "      <td>2.263799</td>\n",
       "      <td>-0.70476</td>\n",
       "    </tr>\n",
       "  </tbody>\n",
       "</table>\n",
       "</div>"
      ],
      "text/plain": [
       "          0         1          2        3         4         5         6   \\\n",
       "0  13.561052 -0.082514 -12.240911  1.76602  6.611381  6.140756 -7.405864   \n",
       "\n",
       "         7         8        9         10        11       12  \n",
       "0 -2.996645 -1.483605 -2.86212 -5.922711  2.263799 -0.70476  "
      ]
     },
     "execution_count": 558,
     "metadata": {},
     "output_type": "execute_result"
    }
   ],
   "source": [
    "test"
   ]
  },
  {
   "cell_type": "code",
   "execution_count": null,
   "metadata": {},
   "outputs": [],
   "source": []
  },
  {
   "cell_type": "code",
   "execution_count": 559,
   "metadata": {},
   "outputs": [],
   "source": [
    "final = pd.concat([test,train])"
   ]
  },
  {
   "cell_type": "code",
   "execution_count": 560,
   "metadata": {},
   "outputs": [
    {
     "data": {
      "text/html": [
       "<div>\n",
       "<style scoped>\n",
       "    .dataframe tbody tr th:only-of-type {\n",
       "        vertical-align: middle;\n",
       "    }\n",
       "\n",
       "    .dataframe tbody tr th {\n",
       "        vertical-align: top;\n",
       "    }\n",
       "\n",
       "    .dataframe thead th {\n",
       "        text-align: right;\n",
       "    }\n",
       "</style>\n",
       "<table border=\"1\" class=\"dataframe\">\n",
       "  <thead>\n",
       "    <tr style=\"text-align: right;\">\n",
       "      <th></th>\n",
       "      <th>0</th>\n",
       "      <th>1</th>\n",
       "      <th>2</th>\n",
       "      <th>3</th>\n",
       "      <th>4</th>\n",
       "      <th>5</th>\n",
       "      <th>6</th>\n",
       "      <th>7</th>\n",
       "      <th>8</th>\n",
       "      <th>9</th>\n",
       "      <th>10</th>\n",
       "      <th>11</th>\n",
       "      <th>12</th>\n",
       "    </tr>\n",
       "  </thead>\n",
       "  <tbody>\n",
       "    <tr>\n",
       "      <th>0</th>\n",
       "      <td>13.561052</td>\n",
       "      <td>-0.082514</td>\n",
       "      <td>-12.240911</td>\n",
       "      <td>1.76602</td>\n",
       "      <td>6.611381</td>\n",
       "      <td>6.140756</td>\n",
       "      <td>-7.405864</td>\n",
       "      <td>-2.996645</td>\n",
       "      <td>-1.483605</td>\n",
       "      <td>-2.862120</td>\n",
       "      <td>-5.922711</td>\n",
       "      <td>2.263799</td>\n",
       "      <td>-0.704760</td>\n",
       "    </tr>\n",
       "    <tr>\n",
       "      <th>0</th>\n",
       "      <td>13.339990</td>\n",
       "      <td>0.148053</td>\n",
       "      <td>-9.209032</td>\n",
       "      <td>2.64429</td>\n",
       "      <td>5.140057</td>\n",
       "      <td>0.282452</td>\n",
       "      <td>-15.035553</td>\n",
       "      <td>-11.147631</td>\n",
       "      <td>-7.564116</td>\n",
       "      <td>-9.250828</td>\n",
       "      <td>-9.926796</td>\n",
       "      <td>0.373194</td>\n",
       "      <td>-1.287082</td>\n",
       "    </tr>\n",
       "  </tbody>\n",
       "</table>\n",
       "</div>"
      ],
      "text/plain": [
       "          0         1          2        3         4         5          6   \\\n",
       "0  13.561052 -0.082514 -12.240911  1.76602  6.611381  6.140756  -7.405864   \n",
       "0  13.339990  0.148053  -9.209032  2.64429  5.140057  0.282452 -15.035553   \n",
       "\n",
       "          7         8         9         10        11        12  \n",
       "0  -2.996645 -1.483605 -2.862120 -5.922711  2.263799 -0.704760  \n",
       "0 -11.147631 -7.564116 -9.250828 -9.926796  0.373194 -1.287082  "
      ]
     },
     "execution_count": 560,
     "metadata": {},
     "output_type": "execute_result"
    }
   ],
   "source": [
    "final"
   ]
  },
  {
   "cell_type": "markdown",
   "metadata": {},
   "source": [
    "###   Test/train approach"
   ]
  },
  {
   "cell_type": "code",
   "execution_count": 561,
   "metadata": {},
   "outputs": [
    {
     "name": "stdout",
     "output_type": "stream",
     "text": [
      "0    33.960596\n",
      "dtype: float64\n",
      "close\n"
     ]
    }
   ],
   "source": [
    "#pr = []\n",
    "av = 0\n",
    "m = 0\n",
    "for i in range(len(final.T)):\n",
    "   \n",
    "    mean = (final[i][0:1]/final[i][1:])\n",
    "    m = m+mean\n",
    "print(m)\n",
    "if(int(m)>50):\n",
    "    print(\"open\")\n",
    "else:\n",
    "    print(\"close\")\n",
    "    \n",
    "    \n",
    "    "
   ]
  },
  {
   "cell_type": "markdown",
   "metadata": {},
   "source": [
    "### distance approach"
   ]
  },
  {
   "cell_type": "code",
   "execution_count": 562,
   "metadata": {},
   "outputs": [
    {
     "name": "stdout",
     "output_type": "stream",
     "text": [
      "total feature mean : 50.891667432444144\n",
      "open with percentage of mean\n",
      "distance between train / test 46.41831431315563\n",
      "another user\n"
     ]
    }
   ],
   "source": [
    "dis = 0\n",
    "for i in range(len(final.T)):\n",
    "    a = max(final[i])\n",
    "    b = min(final[i])\n",
    "    #print(a,b)\n",
    "    if(a<0 and b<0):\n",
    "        a = a*(-1)\n",
    "        b = b*(-1)\n",
    "    #print(a,b)\n",
    "    mx=max(a,b)\n",
    "    mn = min(a,b)\n",
    "    #print(mx,mn)\n",
    "    if(mn<0):\n",
    "        mn = mn*(-1)\n",
    "        mx = mx+mn+1\n",
    "        mn = 1\n",
    "    #print(mx,mn)\n",
    "    dis += mx - mn\n",
    "    \n",
    "    per = (mn/mx)*100\n",
    "    #print(\"percentage particular feature\",per)\n",
    "    av = av+per\n",
    "av = av/13\n",
    "print('total feature mean :',av)\n",
    "if(av>50):\n",
    "    print(\"open with percentage of mean\")\n",
    "else:\n",
    "    print(\"not open with percentage mean\")\n",
    "print(\"distance between train / test\",dis)\n",
    "if(dis<20):\n",
    "        print(\"OPEN\")\n",
    "else:\n",
    "        print(\"another user\")"
   ]
  },
  {
   "cell_type": "code",
   "execution_count": null,
   "metadata": {},
   "outputs": [],
   "source": []
  },
  {
   "cell_type": "code",
   "execution_count": null,
   "metadata": {},
   "outputs": [],
   "source": []
  },
  {
   "cell_type": "code",
   "execution_count": null,
   "metadata": {},
   "outputs": [],
   "source": []
  }
 ],
 "metadata": {
  "kernelspec": {
   "display_name": "Python 3",
   "language": "python",
   "name": "python3"
  },
  "language_info": {
   "codemirror_mode": {
    "name": "ipython",
    "version": 3
   },
   "file_extension": ".py",
   "mimetype": "text/x-python",
   "name": "python",
   "nbconvert_exporter": "python",
   "pygments_lexer": "ipython3",
   "version": "3.7.0"
  }
 },
 "nbformat": 4,
 "nbformat_minor": 2
}
